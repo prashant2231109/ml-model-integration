{
  "metadata": {
    "kernelspec": {
      "language": "python",
      "display_name": "Python 3",
      "name": "python3"
    },
    "language_info": {
      "name": "python",
      "version": "3.10.14",
      "mimetype": "text/x-python",
      "codemirror_mode": {
        "name": "ipython",
        "version": 3
      },
      "pygments_lexer": "ipython3",
      "nbconvert_exporter": "python",
      "file_extension": ".py"
    },
    "kaggle": {
      "accelerator": "none",
      "dataSources": [
        {
          "sourceId": 3003051,
          "sourceType": "datasetVersion",
          "datasetId": 1839636
        }
      ],
      "dockerImageVersionId": 30761,
      "isInternetEnabled": false,
      "language": "python",
      "sourceType": "notebook",
      "isGpuEnabled": false
    },
    "colab": {
      "name": "Fertilizer recommendation model ",
      "provenance": [],
      "toc_visible": true
    }
  },
  "nbformat_minor": 0,
  "nbformat": 4,
  "cells": [
    {
      "source": [
        "# IMPORTANT: RUN THIS CELL IN ORDER TO IMPORT YOUR KAGGLE DATA SOURCES,\n",
        "# THEN FEEL FREE TO DELETE THIS CELL.\n",
        "# NOTE: THIS NOTEBOOK ENVIRONMENT DIFFERS FROM KAGGLE'S PYTHON\n",
        "# ENVIRONMENT SO THERE MAY BE MISSING LIBRARIES USED BY YOUR\n",
        "# NOTEBOOK.\n",
        "import os\n",
        "import shutil\n",
        "import kagglehub\n",
        "mohitsingh1804_fertilizer_prediction_dataset_path = kagglehub.dataset_download('mohitsingh1804/fertilizer-prediction-dataset')\n",
        "\n",
        "print('Data source import complete.')\n"
      ],
      "metadata": {
        "id": "Uk1P00nPQe5j"
      },
      "cell_type": "code",
      "outputs": [],
      "execution_count": null
    },
    {
      "cell_type": "code",
      "source": [
        "# This Python 3 environment comes with many helpful analytics libraries installed\n",
        "# It is defined by the kaggle/python Docker image: https://github.com/kaggle/docker-python\n",
        "# For example, here's several helpful packages to load\n",
        "\n",
        "import numpy as np # linear algebra\n",
        "import pandas as pd # data processing, CSV file I/O (e.g. pd.read_csv)\n",
        "\n",
        "# Input data files are available in the read-only \"../input/\" directory\n",
        "# For example, running this (by clicking run or pressing Shift+Enter) will list all files under the input directory\n",
        "\n",
        "import os\n",
        "for dirname, _, filenames in os.walk('/kaggle/input'):\n",
        "    for filename in filenames:\n",
        "        print(os.path.join(dirname, filename))\n",
        "\n",
        "# You can write up to 20GB to the current directory (/kaggle/working/) that gets preserved as output when you create a version using \"Save & Run All\"\n",
        "# You can also write temporary files to /kaggle/temp/, but they won't be saved outside of the current session"
      ],
      "metadata": {
        "_uuid": "8f2839f25d086af736a60e9eeb907d3b93b6e0e5",
        "_cell_guid": "b1076dfc-b9ad-4769-8c92-a6c4dae69d19",
        "execution": {
          "iopub.status.busy": "2024-09-03T16:26:37.310745Z",
          "iopub.execute_input": "2024-09-03T16:26:37.311224Z",
          "iopub.status.idle": "2024-09-03T16:26:37.881937Z",
          "shell.execute_reply.started": "2024-09-03T16:26:37.311182Z",
          "shell.execute_reply": "2024-09-03T16:26:37.880098Z"
        },
        "trusted": true,
        "id": "Sssft3t_Qe5l"
      },
      "execution_count": null,
      "outputs": []
    },
    {
      "cell_type": "code",
      "source": [
        "import pandas as pd\n",
        "import numpy as np\n",
        "import matplotlib.pyplot as plt\n",
        "import seaborn as sns"
      ],
      "metadata": {
        "execution": {
          "iopub.status.busy": "2024-09-03T16:26:37.885425Z",
          "iopub.execute_input": "2024-09-03T16:26:37.886208Z",
          "iopub.status.idle": "2024-09-03T16:26:39.941901Z",
          "shell.execute_reply.started": "2024-09-03T16:26:37.886147Z",
          "shell.execute_reply": "2024-09-03T16:26:39.940364Z"
        },
        "trusted": true,
        "id": "CBQi2-AlQe5m"
      },
      "execution_count": null,
      "outputs": []
    },
    {
      "cell_type": "code",
      "source": [
        "url='/kaggle/input/fertilizer-prediction-dataset/Fertilizer Prediction.csv'"
      ],
      "metadata": {
        "execution": {
          "iopub.status.busy": "2024-09-03T16:26:39.944522Z",
          "iopub.execute_input": "2024-09-03T16:26:39.945368Z",
          "iopub.status.idle": "2024-09-03T16:26:39.953155Z",
          "shell.execute_reply.started": "2024-09-03T16:26:39.945298Z",
          "shell.execute_reply": "2024-09-03T16:26:39.951047Z"
        },
        "trusted": true,
        "id": "OzwHG7rOQe5m"
      },
      "execution_count": null,
      "outputs": []
    },
    {
      "cell_type": "code",
      "source": [
        "df=pd.read_csv(url)\n",
        "df.head()\n",
        "\n"
      ],
      "metadata": {
        "execution": {
          "iopub.status.busy": "2024-09-03T16:26:39.95644Z",
          "iopub.execute_input": "2024-09-03T16:26:39.956943Z",
          "iopub.status.idle": "2024-09-03T16:26:40.019757Z",
          "shell.execute_reply.started": "2024-09-03T16:26:39.956877Z",
          "shell.execute_reply": "2024-09-03T16:26:40.018121Z"
        },
        "trusted": true,
        "id": "35_PQXXFQe5m"
      },
      "execution_count": null,
      "outputs": []
    },
    {
      "cell_type": "markdown",
      "source": [
        "# *Exploring dataset*"
      ],
      "metadata": {
        "id": "sKNfi5LaQe5n"
      }
    },
    {
      "cell_type": "code",
      "source": [
        "df[\"Fertilizer Name\"].unique()"
      ],
      "metadata": {
        "execution": {
          "iopub.status.busy": "2024-09-03T16:26:40.021779Z",
          "iopub.execute_input": "2024-09-03T16:26:40.022215Z",
          "iopub.status.idle": "2024-09-03T16:26:40.035809Z",
          "shell.execute_reply.started": "2024-09-03T16:26:40.022171Z",
          "shell.execute_reply": "2024-09-03T16:26:40.033814Z"
        },
        "trusted": true,
        "id": "zZVA09p4Qe5n"
      },
      "execution_count": null,
      "outputs": []
    },
    {
      "cell_type": "code",
      "source": [
        "df[\"Soil Type\"].unique()"
      ],
      "metadata": {
        "execution": {
          "iopub.status.busy": "2024-09-03T16:26:40.038622Z",
          "iopub.execute_input": "2024-09-03T16:26:40.039142Z",
          "iopub.status.idle": "2024-09-03T16:26:40.05468Z",
          "shell.execute_reply.started": "2024-09-03T16:26:40.039082Z",
          "shell.execute_reply": "2024-09-03T16:26:40.052981Z"
        },
        "trusted": true,
        "id": "76dZt0dwQe5o"
      },
      "execution_count": null,
      "outputs": []
    },
    {
      "cell_type": "code",
      "source": [
        "df[\"Crop Type\"].unique()"
      ],
      "metadata": {
        "execution": {
          "iopub.status.busy": "2024-09-03T16:26:40.056555Z",
          "iopub.execute_input": "2024-09-03T16:26:40.057024Z",
          "iopub.status.idle": "2024-09-03T16:26:40.072866Z",
          "shell.execute_reply.started": "2024-09-03T16:26:40.056977Z",
          "shell.execute_reply": "2024-09-03T16:26:40.07131Z"
        },
        "trusted": true,
        "id": "wJi9FIPfQe5o"
      },
      "execution_count": null,
      "outputs": []
    },
    {
      "cell_type": "code",
      "source": [
        "df.describe()"
      ],
      "metadata": {
        "execution": {
          "iopub.status.busy": "2024-09-03T16:26:40.074743Z",
          "iopub.execute_input": "2024-09-03T16:26:40.075444Z",
          "iopub.status.idle": "2024-09-03T16:26:40.121202Z",
          "shell.execute_reply.started": "2024-09-03T16:26:40.075396Z",
          "shell.execute_reply": "2024-09-03T16:26:40.119658Z"
        },
        "trusted": true,
        "id": "GnQL2IQMQe5o"
      },
      "execution_count": null,
      "outputs": []
    },
    {
      "cell_type": "markdown",
      "source": [
        "#  ***Finding any missing value***"
      ],
      "metadata": {
        "id": "G2T-1HtfQe5o"
      }
    },
    {
      "cell_type": "code",
      "source": [
        "df.isnull().sum()"
      ],
      "metadata": {
        "execution": {
          "iopub.status.busy": "2024-09-03T16:26:40.123427Z",
          "iopub.execute_input": "2024-09-03T16:26:40.123958Z",
          "iopub.status.idle": "2024-09-03T16:26:40.139913Z",
          "shell.execute_reply.started": "2024-09-03T16:26:40.123911Z",
          "shell.execute_reply": "2024-09-03T16:26:40.138267Z"
        },
        "trusted": true,
        "id": "ra_5sTzFQe5p"
      },
      "execution_count": null,
      "outputs": []
    },
    {
      "cell_type": "code",
      "source": [
        "df.info()"
      ],
      "metadata": {
        "execution": {
          "iopub.status.busy": "2024-09-03T16:26:40.146039Z",
          "iopub.execute_input": "2024-09-03T16:26:40.14734Z",
          "iopub.status.idle": "2024-09-03T16:26:40.176694Z",
          "shell.execute_reply.started": "2024-09-03T16:26:40.147221Z",
          "shell.execute_reply": "2024-09-03T16:26:40.174839Z"
        },
        "trusted": true,
        "id": "xdtodY1eQe5p"
      },
      "execution_count": null,
      "outputs": []
    },
    {
      "cell_type": "markdown",
      "source": [
        "# ***Visualizing***"
      ],
      "metadata": {
        "id": "mpOyISaXQe5p"
      }
    },
    {
      "cell_type": "code",
      "source": [
        "sns.countplot(data=df,x='Fertilizer Name')"
      ],
      "metadata": {
        "execution": {
          "iopub.status.busy": "2024-09-03T16:26:40.178716Z",
          "iopub.execute_input": "2024-09-03T16:26:40.179165Z",
          "iopub.status.idle": "2024-09-03T16:26:40.508471Z",
          "shell.execute_reply.started": "2024-09-03T16:26:40.179122Z",
          "shell.execute_reply": "2024-09-03T16:26:40.507031Z"
        },
        "trusted": true,
        "id": "FnzzJ1C2Qe5p"
      },
      "execution_count": null,
      "outputs": []
    },
    {
      "cell_type": "code",
      "source": [
        "sns.countplot(data=df,x='Soil Type')"
      ],
      "metadata": {
        "execution": {
          "iopub.status.busy": "2024-09-03T16:26:40.510038Z",
          "iopub.execute_input": "2024-09-03T16:26:40.510462Z",
          "iopub.status.idle": "2024-09-03T16:26:40.806811Z",
          "shell.execute_reply.started": "2024-09-03T16:26:40.51041Z",
          "shell.execute_reply": "2024-09-03T16:26:40.80537Z"
        },
        "trusted": true,
        "id": "Za5OKY07Qe5p"
      },
      "execution_count": null,
      "outputs": []
    },
    {
      "cell_type": "markdown",
      "source": [
        "# ***Removing categorical values(i.e soil and crop )***"
      ],
      "metadata": {
        "id": "NSkxNes4Qe5p"
      }
    },
    {
      "cell_type": "code",
      "source": [
        "df[\"Soil Type\"].value_counts()"
      ],
      "metadata": {
        "execution": {
          "iopub.status.busy": "2024-09-03T16:26:40.80859Z",
          "iopub.execute_input": "2024-09-03T16:26:40.809683Z",
          "iopub.status.idle": "2024-09-03T16:26:40.82357Z",
          "shell.execute_reply.started": "2024-09-03T16:26:40.809633Z",
          "shell.execute_reply": "2024-09-03T16:26:40.821863Z"
        },
        "trusted": true,
        "id": "wO5xa9orQe5p"
      },
      "execution_count": null,
      "outputs": []
    },
    {
      "cell_type": "code",
      "source": [
        "df[\"Crop Type\"].value_counts()"
      ],
      "metadata": {
        "execution": {
          "iopub.status.busy": "2024-09-03T16:26:40.825656Z",
          "iopub.execute_input": "2024-09-03T16:26:40.826208Z",
          "iopub.status.idle": "2024-09-03T16:26:40.840438Z",
          "shell.execute_reply.started": "2024-09-03T16:26:40.826144Z",
          "shell.execute_reply": "2024-09-03T16:26:40.838821Z"
        },
        "trusted": true,
        "id": "XyWPtbHRQe5p"
      },
      "execution_count": null,
      "outputs": []
    },
    {
      "cell_type": "markdown",
      "source": [
        "# ***Mapping Categorical Variable to Numerical Variable (for good accuracy)***"
      ],
      "metadata": {
        "id": "61ML1mCYQe5p"
      }
    },
    {
      "cell_type": "code",
      "source": [
        "soil_num={\n",
        "    'Loamy':1,\n",
        "    'Sandy':2,\n",
        "    'Clayey':3,\n",
        "    'Black':4,\n",
        "    'Red':5\n",
        "}\n",
        "\n",
        "crop_num={\n",
        "    'Sugarcane':1,\n",
        "    'Cotton':2,\n",
        "    'Millets':3,\n",
        "    'Paddy':4,\n",
        "    'Pulses':5,\n",
        "    'Wheat':6,\n",
        "    'Tobacco':7,\n",
        "    'Barley':8,\n",
        "    'Oil seeds':9,\n",
        "    'Ground Nuts':10,\n",
        "    'Maize':11\n",
        "}"
      ],
      "metadata": {
        "execution": {
          "iopub.status.busy": "2024-09-03T16:26:40.842845Z",
          "iopub.execute_input": "2024-09-03T16:26:40.843443Z",
          "iopub.status.idle": "2024-09-03T16:26:40.854388Z",
          "shell.execute_reply.started": "2024-09-03T16:26:40.843383Z",
          "shell.execute_reply": "2024-09-03T16:26:40.852765Z"
        },
        "trusted": true,
        "id": "XZGUC99QQe5q"
      },
      "execution_count": null,
      "outputs": []
    },
    {
      "cell_type": "code",
      "source": [
        "df[\"Soil Serial no.\"]=df[\"Soil Type\"].map(soil_num)\n",
        "df[\"Crop Serial no.\"]=df[\"Crop Type\"].map(crop_num)"
      ],
      "metadata": {
        "execution": {
          "iopub.status.busy": "2024-09-03T16:26:40.856113Z",
          "iopub.execute_input": "2024-09-03T16:26:40.859726Z",
          "iopub.status.idle": "2024-09-03T16:26:40.870069Z",
          "shell.execute_reply.started": "2024-09-03T16:26:40.859667Z",
          "shell.execute_reply": "2024-09-03T16:26:40.868602Z"
        },
        "trusted": true,
        "id": "X9_tyJ39Qe5q"
      },
      "execution_count": null,
      "outputs": []
    },
    {
      "cell_type": "code",
      "source": [
        "df=df.drop([\"Soil Type\",\"Crop Type\"],axis=1)\n",
        "df.head()"
      ],
      "metadata": {
        "execution": {
          "iopub.status.busy": "2024-09-03T16:26:40.871759Z",
          "iopub.execute_input": "2024-09-03T16:26:40.872298Z",
          "iopub.status.idle": "2024-09-03T16:26:40.900344Z",
          "shell.execute_reply.started": "2024-09-03T16:26:40.872224Z",
          "shell.execute_reply": "2024-09-03T16:26:40.898668Z"
        },
        "trusted": true,
        "id": "eKgi5kq2Qe5q"
      },
      "execution_count": null,
      "outputs": []
    },
    {
      "cell_type": "code",
      "source": [
        "x= df.drop(['Fertilizer Name'],axis=1)\n",
        "y=df['Fertilizer Name']"
      ],
      "metadata": {
        "execution": {
          "iopub.status.busy": "2024-09-03T16:26:40.904474Z",
          "iopub.execute_input": "2024-09-03T16:26:40.904919Z",
          "iopub.status.idle": "2024-09-03T16:26:40.914042Z",
          "shell.execute_reply.started": "2024-09-03T16:26:40.904876Z",
          "shell.execute_reply": "2024-09-03T16:26:40.912125Z"
        },
        "trusted": true,
        "id": "LnHD1OJDQe5q"
      },
      "execution_count": null,
      "outputs": []
    },
    {
      "cell_type": "markdown",
      "source": [
        "# ***Splitting***"
      ],
      "metadata": {
        "id": "TXjFjCYgQe5q"
      }
    },
    {
      "cell_type": "code",
      "source": [
        "from sklearn.model_selection import train_test_split\n",
        "x_train, x_test, y_train ,y_test=train_test_split(x,y,test_size=0.3)"
      ],
      "metadata": {
        "execution": {
          "iopub.status.busy": "2024-09-03T16:26:40.916354Z",
          "iopub.execute_input": "2024-09-03T16:26:40.9169Z",
          "iopub.status.idle": "2024-09-03T16:26:41.232415Z",
          "shell.execute_reply.started": "2024-09-03T16:26:40.916813Z",
          "shell.execute_reply": "2024-09-03T16:26:41.230777Z"
        },
        "trusted": true,
        "id": "jqRpQfB1Qe5q"
      },
      "execution_count": null,
      "outputs": []
    },
    {
      "cell_type": "code",
      "source": [
        "x_train.shape"
      ],
      "metadata": {
        "execution": {
          "iopub.status.busy": "2024-09-03T16:26:41.234128Z",
          "iopub.execute_input": "2024-09-03T16:26:41.234657Z",
          "iopub.status.idle": "2024-09-03T16:26:41.245085Z",
          "shell.execute_reply.started": "2024-09-03T16:26:41.234602Z",
          "shell.execute_reply": "2024-09-03T16:26:41.243324Z"
        },
        "trusted": true,
        "id": "wtz4FI5JQe5q"
      },
      "execution_count": null,
      "outputs": []
    },
    {
      "cell_type": "code",
      "source": [
        "x_test.shape"
      ],
      "metadata": {
        "execution": {
          "iopub.status.busy": "2024-09-03T16:26:41.247452Z",
          "iopub.execute_input": "2024-09-03T16:26:41.248415Z",
          "iopub.status.idle": "2024-09-03T16:26:41.258507Z",
          "shell.execute_reply.started": "2024-09-03T16:26:41.248354Z",
          "shell.execute_reply": "2024-09-03T16:26:41.256944Z"
        },
        "trusted": true,
        "id": "vdz1oKQdQe5q"
      },
      "execution_count": null,
      "outputs": []
    },
    {
      "cell_type": "markdown",
      "source": [
        "# ***Model Building***"
      ],
      "metadata": {
        "id": "EP3-XIcqQe5q"
      }
    },
    {
      "cell_type": "code",
      "source": [
        "from sklearn.ensemble import RandomForestClassifier\n",
        "\n",
        "rf_model = RandomForestClassifier()\n",
        "rf_model.fit(x_train, y_train)"
      ],
      "metadata": {
        "execution": {
          "iopub.status.busy": "2024-09-03T16:26:41.260387Z",
          "iopub.execute_input": "2024-09-03T16:26:41.262747Z",
          "iopub.status.idle": "2024-09-03T16:26:41.791847Z",
          "shell.execute_reply.started": "2024-09-03T16:26:41.262665Z",
          "shell.execute_reply": "2024-09-03T16:26:41.790197Z"
        },
        "trusted": true,
        "id": "g3JwCd7YQe5q"
      },
      "execution_count": null,
      "outputs": []
    },
    {
      "cell_type": "code",
      "source": [
        "y_pred =rf_model.predict(x_test)"
      ],
      "metadata": {
        "execution": {
          "iopub.status.busy": "2024-09-03T16:26:41.793666Z",
          "iopub.execute_input": "2024-09-03T16:26:41.794144Z",
          "iopub.status.idle": "2024-09-03T16:26:41.817622Z",
          "shell.execute_reply.started": "2024-09-03T16:26:41.79409Z",
          "shell.execute_reply": "2024-09-03T16:26:41.816096Z"
        },
        "trusted": true,
        "id": "cu0vgzLtQe5q"
      },
      "execution_count": null,
      "outputs": []
    },
    {
      "cell_type": "code",
      "source": [
        "from sklearn.metrics import classification_report\n",
        "\n",
        "print(classification_report(y_test, y_pred))\n"
      ],
      "metadata": {
        "execution": {
          "iopub.status.busy": "2024-09-03T16:26:41.819086Z",
          "iopub.execute_input": "2024-09-03T16:26:41.81945Z",
          "iopub.status.idle": "2024-09-03T16:26:41.842803Z",
          "shell.execute_reply.started": "2024-09-03T16:26:41.81941Z",
          "shell.execute_reply": "2024-09-03T16:26:41.840965Z"
        },
        "trusted": true,
        "id": "P6w4lJANQe5r"
      },
      "execution_count": null,
      "outputs": []
    },
    {
      "cell_type": "code",
      "source": [
        "from sklearn.metrics import confusion_matrix\n",
        "\n",
        "conf_matrix=confusion_matrix(y_test,y_pred)\n",
        "sns.heatmap(conf_matrix, annot=True )"
      ],
      "metadata": {
        "execution": {
          "iopub.status.busy": "2024-09-03T16:26:41.845422Z",
          "iopub.execute_input": "2024-09-03T16:26:41.846031Z",
          "iopub.status.idle": "2024-09-03T16:26:42.483533Z",
          "shell.execute_reply.started": "2024-09-03T16:26:41.845962Z",
          "shell.execute_reply": "2024-09-03T16:26:42.482254Z"
        },
        "trusted": true,
        "id": "c6WivdU7Qe5r"
      },
      "execution_count": null,
      "outputs": []
    },
    {
      "cell_type": "markdown",
      "source": [
        "# ***Using DecisionTreeClassifier (for comparison)***"
      ],
      "metadata": {
        "id": "Blvvdh2UQe5r"
      }
    },
    {
      "cell_type": "code",
      "source": [
        "from sklearn.tree import DecisionTreeClassifier\n",
        "dtc_model=DecisionTreeClassifier()\n",
        "dtc_model.fit(x_train,y_train)"
      ],
      "metadata": {
        "execution": {
          "iopub.status.busy": "2024-09-03T16:26:42.485155Z",
          "iopub.execute_input": "2024-09-03T16:26:42.486579Z",
          "iopub.status.idle": "2024-09-03T16:26:42.500437Z",
          "shell.execute_reply.started": "2024-09-03T16:26:42.486521Z",
          "shell.execute_reply": "2024-09-03T16:26:42.499322Z"
        },
        "trusted": true,
        "id": "LaqDlr--Qe5r"
      },
      "execution_count": null,
      "outputs": []
    },
    {
      "cell_type": "code",
      "source": [
        "y_pred=dtc_model.predict(x_test)"
      ],
      "metadata": {
        "execution": {
          "iopub.status.busy": "2024-09-03T16:26:42.50252Z",
          "iopub.execute_input": "2024-09-03T16:26:42.503451Z",
          "iopub.status.idle": "2024-09-03T16:26:42.511862Z",
          "shell.execute_reply.started": "2024-09-03T16:26:42.503392Z",
          "shell.execute_reply": "2024-09-03T16:26:42.510714Z"
        },
        "trusted": true,
        "id": "hf047jLWQe5r"
      },
      "execution_count": null,
      "outputs": []
    },
    {
      "cell_type": "code",
      "source": [
        "print(classification_report(y_test, y_pred))"
      ],
      "metadata": {
        "execution": {
          "iopub.status.busy": "2024-09-03T16:26:42.519615Z",
          "iopub.execute_input": "2024-09-03T16:26:42.521282Z",
          "iopub.status.idle": "2024-09-03T16:26:42.541577Z",
          "shell.execute_reply.started": "2024-09-03T16:26:42.521189Z",
          "shell.execute_reply": "2024-09-03T16:26:42.540421Z"
        },
        "trusted": true,
        "id": "GVxMnG_UQe5r"
      },
      "execution_count": null,
      "outputs": []
    },
    {
      "cell_type": "markdown",
      "source": [
        "# *Using RandomForestClassifier for model building*"
      ],
      "metadata": {
        "id": "MWCBbB6QQe5r"
      }
    },
    {
      "cell_type": "code",
      "source": [
        "def recommend(Temparature,Humidity,Moisture,Nitrogen,Potassium,Phosphorous,Soil_Serial_no,Crop_Serial_no):\n",
        "    attributes = np.array([[Temparature,Humidity,Moisture,Nitrogen,Potassium,Phosphorous,Soil_Serial_no,Crop_Serial_no]])\n",
        "    result = rf_model.predict(attributes).reshape(1,-1)\n",
        "\n",
        "    return result[0]"
      ],
      "metadata": {
        "execution": {
          "iopub.status.busy": "2024-09-03T16:26:42.543098Z",
          "iopub.execute_input": "2024-09-03T16:26:42.544449Z",
          "iopub.status.idle": "2024-09-03T16:26:42.552095Z",
          "shell.execute_reply.started": "2024-09-03T16:26:42.544393Z",
          "shell.execute_reply": "2024-09-03T16:26:42.550521Z"
        },
        "trusted": true,
        "id": "TNZvMon2Qe5r"
      },
      "execution_count": null,
      "outputs": []
    },
    {
      "cell_type": "code",
      "source": [
        "Temparature=59\n",
        "Humidity=100\n",
        "Moisture=300\n",
        "Nitrogen=123\n",
        "Potassium=70\n",
        "Phosphorous=300\n",
        "Soil_Serial_no=3\n",
        "Crop_Serial_no=9\n",
        "predict=recommend(Temparature,Humidity,Moisture,Nitrogen,Potassium,Phosphorous,Soil_Serial_no,Crop_Serial_no)\n",
        "predict[0]"
      ],
      "metadata": {
        "execution": {
          "iopub.status.busy": "2024-09-03T16:26:42.553989Z",
          "iopub.execute_input": "2024-09-03T16:26:42.554777Z",
          "iopub.status.idle": "2024-09-03T16:26:42.592326Z",
          "shell.execute_reply.started": "2024-09-03T16:26:42.554679Z",
          "shell.execute_reply": "2024-09-03T16:26:42.590971Z"
        },
        "trusted": true,
        "id": "1rFzhzbgQe5u"
      },
      "execution_count": null,
      "outputs": []
    },
    {
      "cell_type": "code",
      "source": [
        "import pickle\n",
        "pickle_out=open('FRM.pkl','wb')\n",
        "pickle.dump(rf_model,pickle_out)\n",
        "pickle_out.close()"
      ],
      "metadata": {
        "execution": {
          "iopub.status.busy": "2024-09-03T16:26:42.593857Z",
          "iopub.execute_input": "2024-09-03T16:26:42.595005Z",
          "iopub.status.idle": "2024-09-03T16:26:42.609889Z",
          "shell.execute_reply.started": "2024-09-03T16:26:42.59495Z",
          "shell.execute_reply": "2024-09-03T16:26:42.608349Z"
        },
        "trusted": true,
        "id": "t9M-woVSQe5u"
      },
      "execution_count": null,
      "outputs": []
    }
  ]
}